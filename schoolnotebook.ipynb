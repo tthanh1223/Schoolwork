{
 "cells": [
  {
   "metadata": {},
   "cell_type": "code",
   "source": [
    "\n",
    "numbers = input()\n",
    "number = numbers.split(\" \")\n",
    "T = int(number[0])\n",
    "P = int(number[1])\n",
    "C = int(number[2])\n",
    "if T == 1:\n",
    "    print(P*C)\n",
    "elif T == 2:\n",
    "    print((P+1)//2*C)"
   ],
   "id": "f80cc5f47b8cd715",
   "outputs": [],
   "execution_count": null
  },
  {
   "metadata": {},
   "cell_type": "code",
   "source": [
    "S = 0\n",
    "s1 = 0\n",
    "s2 = 1\n",
    "n = int(input())\n",
    "for i in range(1,n+1):\n",
    "    s1 += i\n",
    "    s2 *= i\n",
    "    S += s1/s2\n",
    "print(S)"
   ],
   "id": "14751ab3808e6e44",
   "outputs": [],
   "execution_count": null
  },
  {
   "metadata": {},
   "cell_type": "code",
   "source": [
    "s1 = 0\n",
    "s2 = 1\n",
    "n = int(input(\"Enter a value for n: \"))\n",
    "\n",
    "# Calculate (n)!\n",
    "for i in range(1, n+1):\n",
    "    s2 *= i\n",
    "\n",
    "# Reset s2 for use in the second loop\n",
    "factorial = s2\n",
    "s2 = 1\n",
    "s = 0\n",
    "\n",
    "# Perform the calculations\n",
    "for i in range(1, n+1,1):\n",
    "    s1 += i\n",
    "    temp_s2 = factorial  # Use a temporary variable for factorial\n",
    "    for j in range(n, 1, -1):\n",
    "        temp_s2 /= j\n",
    "        s += float(s1 / temp_s2)\n",
    "\n",
    "print(s)\n"
   ],
   "id": "f7eb7b55cf3be1c9",
   "outputs": [],
   "execution_count": null
  },
  {
   "metadata": {},
   "cell_type": "code",
   "source": [
    "\"\"\"Write a program to calculate the average of prime numbers in [A, B]\n",
    "where A, B are obtained by keyboards\"\"\"\n",
    "def prime_or_not(number:int)->bool:\n",
    "    if number <= 1:\n",
    "        return False\n",
    "    if number % 2 == 0:\n",
    "        return False\n",
    "    if number == 2:\n",
    "        return True\n",
    "    for i in range(3, int(number**0.5)+1, 2):\n",
    "        if number % i == 0:\n",
    "            return False\n",
    "    return True\n",
    "a = int(input(\"Start: \"))\n",
    "b = int(input(\"End: \"))\n",
    "s = 0\n",
    "count = 0\n",
    "for i in range(a,b+1):\n",
    "    if prime_or_not(i):\n",
    "        s += i\n",
    "        count += 1\n",
    "print(float(s/count))"
   ],
   "id": "59a98e3ca5636e93",
   "outputs": [],
   "execution_count": null
  },
  {
   "metadata": {},
   "cell_type": "code",
   "source": [
    "number = int(input(\"Enter a number: \"))\n",
    "def perfect_or_not(number):\n",
    "    if number <= 0:\n",
    "        return False\n",
    "    s = 0\n",
    "    for i in range(1,number//2+1):\n",
    "        if number % i == 0:\n",
    "            s += i\n",
    "    return s == number\n",
    "tf = perfect_or_not(number)\n",
    "print(tf)"
   ],
   "id": "231995a64ed5506d",
   "outputs": [],
   "execution_count": null
  },
  {
   "metadata": {},
   "cell_type": "code",
   "source": [
    "\"\"\"Write a program to print all perfectly squared number in the [1, n]\n",
    "where n is from the keyboard\"\"\"\n",
    "def perfect_or_not(number):\n",
    "    if number <= 0:\n",
    "        return False\n",
    "    s = 0\n",
    "    for i in range(1,number//2+1):\n",
    "        if number % i == 0:\n",
    "            s += i\n",
    "    return s == number\n",
    "n = int(input(\"Enter a number: \"))\n",
    "for a in range(1,n+1):\n",
    "    if perfect_or_not(a) :\n",
    "        print(a)\n",
    "    "
   ],
   "id": "9aec421c884c8a42",
   "outputs": [],
   "execution_count": null
  },
  {
   "metadata": {
    "ExecuteTime": {
     "end_time": "2024-09-24T06:53:37.129657Z",
     "start_time": "2024-09-24T06:53:35.161041Z"
    }
   },
   "cell_type": "code",
   "source": [
    "\"\"\"find the biggest square number in [a,b] else return -1\"\"\"\n",
    "def square_or_not(number):\n",
    "    sqrt = int(number**0.5)\n",
    "    if sqrt**2 == number:\n",
    "        return True\n",
    "    return False\n",
    "a = int(input(\"Enter a number: \"))\n",
    "b = int(input(\"Enter a number: \")) #get b >= a\n",
    "def biggest_square(a,b):\n",
    "    for number in range(b,a-1,-1):\n",
    "        if square_or_not(number):\n",
    "            return number   \n",
    "        else:\n",
    "            pass\n",
    "    return -1\n",
    "print(biggest_square(a,b))"
   ],
   "id": "734fef9c7beeb9d7",
   "outputs": [
    {
     "name": "stdout",
     "output_type": "stream",
     "text": [
      "-1\n"
     ]
    }
   ],
   "execution_count": 53
  },
  {
   "metadata": {},
   "cell_type": "code",
   "source": [
    "#Write a program to find the greatest common divisors of two\n",
    "#ositive number\n",
    "#▪ by for loop\n",
    "#▪ by while loop\n",
    "#find gcd\n",
    "def gcd(a: int, b:int)->int:\n",
    "    while b != 0:\n",
    "        x = a\n",
    "        a = b\n",
    "        b = x % b\n",
    "\n",
    "    return a\n",
    "number_1 = int(input(\"Enter a number: \"))\n",
    "number_2 = int(input(\"Enter a number: \"))\n",
    "x = gcd(number_1, number_2)\n",
    "print(x)\n",
    "def gcd_for_loop(a ,b):\n",
    "    for i in range(1,min(a,b)+1):\n",
    "        if a%i == 0 and b%i == 0:\n",
    "            return i\n",
    "y = gcd_for_loop(number_1, number_2)\n",
    "print(y)\n",
    "# a = 23, b = 22\n",
    "# a = 1, b = 22\n",
    "# gcd = 1"
   ],
   "id": "e8ecb7203aa94274",
   "outputs": [],
   "execution_count": null
  },
  {
   "metadata": {},
   "cell_type": "code",
   "source": [
    "\"\"\"Write a program to count the total number of digits in a number\n",
    "using a while loop\"\"\"\n",
    "def count_digits(number :str)->int:\n",
    "    s: int = 0\n",
    "    for i in number:\n",
    "        s += int(i)\n",
    "    return s\n",
    "n = input(\"Enter a number: \")\n",
    "print(count_digits(n))"
   ],
   "id": "d6edf8528a5a98eb",
   "outputs": [],
   "execution_count": null
  },
  {
   "metadata": {},
   "cell_type": "code",
   "source": [
    "\"\"\"Write a program to check whether the digits of the number n is\n",
    "increasingly from left to right\"\"\"\n",
    "def increase(n:str) -> bool:\n",
    "    for i in range(len(n)-1):\n",
    "        if int(n[i]) > int(n[i+1]):\n",
    "            return False\n",
    "    return True\n",
    "n = input(\"Enter a number: \")\n",
    "print(increase(n))"
   ],
   "id": "9711c9ab70e12f5d",
   "outputs": [],
   "execution_count": null
  },
  {
   "metadata": {},
   "cell_type": "code",
   "source": [
    "\"\"\"Write a program to find the biggest digit in the integer n\"\"\"\n",
    "def find_biggest(number:str) -> int:\n",
    "    biggest_digit = 0\n",
    "    for i in range(len(n)):\n",
    "        try:\n",
    "            if int(n[i])> biggest_digit:\n",
    "                biggest_digit = int(n[i])\n",
    "        except ValueError:\n",
    "            continue\n",
    "    return biggest_digit\n",
    "n = input(\"Enter a number: \")\n",
    "print(find_biggest(n))"
   ],
   "id": "adaf0627c3def690",
   "outputs": [],
   "execution_count": null
  },
  {
   "metadata": {},
   "cell_type": "code",
   "source": [
    "\"\"\"Write a program to reverse a given positive integer number. It mean\n",
    "that the reversed value is number, not only displaying the result.\"\"\"\n",
    "def rever_num(n:str) -> int:\n",
    "    r = str()\n",
    "    for i in range(len(n)-1,-1,-1):\n",
    "        r += f'{n[i]}'\n",
    "    return int(r)\n",
    "n = input(\"Enter a number: \")\n",
    "print(rever_num(n))"
   ],
   "id": "c0273fd744db9fb0",
   "outputs": [],
   "execution_count": null
  },
  {
   "metadata": {},
   "cell_type": "code",
   "source": [
    "\"\"\"Write a program to use for loop to print the following reverse\n",
    "number pattern\"\"\"\n",
    "# 5 5 5 5 5\n",
    "# 4 4 4 4\n",
    "# 3 3 3\n",
    "# 2 2\n",
    "# 1\n",
    "def print_reverse(n:int):\n",
    "    for i in range(n,0,-1):\n",
    "        for j in range(i,0,-1):\n",
    "            if j != 1:\n",
    "                print(i,end=' ')\n",
    "            else:\n",
    "                print(i)\n",
    "n = int(input(\"Enter a number: \"))\n",
    "print_reverse(n)"
   ],
   "id": "371b32f1b8a83dcf",
   "outputs": [],
   "execution_count": null
  },
  {
   "metadata": {},
   "cell_type": "code",
   "source": [
    "\"\"\"Write a program to display the sequence of k numbers in Fibonacci\n",
    "sequence\n",
    "▪ Hint: The Fibonacci Sequence is a series of numbers. The next\n",
    "number is found by adding up the two numbers before it. The first\n",
    "two numbers are 0 and 1.\"\"\"\n",
    "def fibonacci(n: int, memo: list) -> int:\n",
    "    if memo[n] is not None:  # Check if result is already calculated\n",
    "        return memo[n]\n",
    "    if n == 0:\n",
    "        memo[n] = 0\n",
    "    elif n == 1:\n",
    "        memo[n] = 1\n",
    "    else:\n",
    "        memo[n] = fibonacci(n - 1, memo) + fibonacci(n - 2, memo)  # Store result in the list\n",
    "    return memo[n]\n",
    "\n",
    "n = int(input(\"Enter a number: \"))\n",
    "\n",
    "# Initialize the list with None to indicate calculated Fibonacci values\n",
    "memo = [None] * (n + 1)\n",
    "\n",
    "# Generate Fibonacci sequence\n",
    "for i in range(n + 1):\n",
    "    print(fibonacci(i, memo), end=\" \")\n",
    "\n",
    "     \n",
    "def fibonacci(n: int, memo: dict = {}) -> int:\n",
    "    if n in memo:\n",
    "        return memo[n]  # Return cached result if available\n",
    "    if n == 0: \n",
    "        return 0\n",
    "    if n == 1: \n",
    "        return 1\n",
    "    # Store the result in memo before returning\n",
    "    memo[n] = fibonacci(n - 1, memo) + fibonacci(n - 2, memo)\n",
    "    return memo[n]\n",
    "\n",
    "n = int(input(\"Enter a number: \"))\n",
    "for i in range(n + 1):\n",
    "    print(fibonacci(i), end=\" \")\n"
   ],
   "id": "b6be0ccc4f7e0a1c",
   "outputs": [],
   "execution_count": null
  },
  {
   "metadata": {},
   "cell_type": "code",
   "source": [
    "\"\"\"ex2\"\"\"\n",
    "def sequence(n:int) -> float:\n",
    "    variable = ((n-1)/n)**(1/2)\n",
    "    for i in range(n-2,0,-2):\n",
    "        variable = (i/(i+1)+variable)**(1/2)\n",
    "    return (1/2+variable)**(1/2)\n",
    "n = int(input(\"Enter a number: \"))\n",
    "print(sequence(n))\n",
    "    "
   ],
   "id": "e9f062b565a25f",
   "outputs": [],
   "execution_count": null
  },
  {
   "metadata": {},
   "cell_type": "code",
   "source": [
    "\"\"\"Given an integer n, when we delete a digit d (all positions with digit\n",
    "d in n), we can obtain the integer m. Write a program to find m such\n",
    "that m is the biggest number in all cases.\"\"\"\n",
    "def delete_digit(n:str,i:str)->int :\n",
    "    m = str()\n",
    "    i = int(i)\n",
    "    for digit in n:\n",
    "        if digit is not None:\n",
    "            if int(digit) != i:\n",
    "               m += f'{int(digit)}'\n",
    "    try:\n",
    "        return int(m)\n",
    "    except:\n",
    "        return 0\n",
    "def delete_digit_with_builtin(n:str,i:str)->int:\n",
    "    m = n.replace(i,'',1)\n",
    "    try:\n",
    "        return int(m)\n",
    "    except ValueError:\n",
    "        return 0\n",
    "\n",
    "n = input(\"Enter a number: \")\n",
    "biggest = 0\n",
    "for digit in n:\n",
    "    if biggest < delete_digit(n,digit):\n",
    "        biggest = delete_digit(n,digit)\n",
    "print(biggest)"
   ],
   "id": "196b4e52eb128066",
   "outputs": [],
   "execution_count": null
  },
  {
   "metadata": {},
   "cell_type": "code",
   "source": [
    "\"\"\"Write a function to find the smallest prime number which is bigger than\n",
    "the positive integer k\"\"\"\n",
    "def prime_or_not(number:int)->int:\n",
    "    if number <= 1:\n",
    "        return False\n",
    "    if number % 2 == 0:\n",
    "        return False\n",
    "    if number == 2:\n",
    "        return True\n",
    "    for i in range(3, int(number**0.5)+1, 2):\n",
    "        if number % i == 0:\n",
    "            return False\n",
    "    return True\n",
    "def find_smallest_prime(n:int)->int:\n",
    "    prime = False\n",
    "    while not prime:\n",
    "        prime = prime_or_not(n+1)\n",
    "        n += 1\n",
    "    return n\n",
    "\n",
    "n = int(input(\"Enter a number: \"))\n",
    "print(find_smallest_prime(n))"
   ],
   "id": "63d42aa2b50daebb",
   "outputs": [],
   "execution_count": null
  },
  {
   "metadata": {},
   "cell_type": "code",
   "source": [
    "\"\"\"▪ Write a function to determine whether a list of integer is symmetrical or\n",
    "not ?\"\"\"\n",
    "\n",
    "###A symmetrical list means that the list has the same sequence of elements when read from both the left and the right (like a mirror image). This concept is similar to a palindrome, where a word reads the same forwards and backwards.\n",
    "def is_symmetrical(n:str)->bool:\n",
    "    for start in range(len(n)//2):\n",
    "        end = len(n) - start - 1\n",
    "        if n[start] != n[end]:\n",
    "            return False\n",
    "    return True\n",
    "n = input(\"Enter a number: \")\n",
    "print(is_symmetrical(n))"
   ],
   "id": "c58f371c70d9bf5a",
   "outputs": [],
   "execution_count": null
  },
  {
   "metadata": {
    "ExecuteTime": {
     "end_time": "2024-09-24T05:30:26.341984Z",
     "start_time": "2024-09-24T05:30:18.387847Z"
    }
   },
   "cell_type": "code",
   "source": [
    "\"\"\"Write a function to simplify a fraction\n",
    "▪ Find GCD\"\"\"\n",
    "#simplily a fraction: tim phan so toi gian\n",
    "def find_gcd(number1:int,number2:int)->int:\n",
    "    while number2 != 0:\n",
    "        number1, number2 = number2, number1 % number2\n",
    "    return number1\n",
    "def print_simply_fraction(number1:int,number2:int):\n",
    "    gcd = find_gcd(number1,number2)\n",
    "    simple_number1 = number1//gcd\n",
    "    simple_number2 = number2//gcd\n",
    "    print(f\"{simple_number1}\\n----------\\n{simple_number2}\")\n",
    "if __name__ == \"__main__\":\n",
    "    number1 = int(input(\"Enter a number: \"))\n",
    "    number2 = int(input(\"Enter another number: \"))\n",
    "    print_simply_fraction(number1,number2)"
   ],
   "id": "30abec68d0730cd5",
   "outputs": [
    {
     "name": "stdout",
     "output_type": "stream",
     "text": [
      "41\n",
      "----------\n",
      "71\n"
     ]
    }
   ],
   "execution_count": 2
  },
  {
   "metadata": {
    "ExecuteTime": {
     "end_time": "2024-09-24T06:25:30.156071Z",
     "start_time": "2024-09-24T06:25:30.136359Z"
    }
   },
   "cell_type": "code",
   "source": "\"\"\"Section 2 - Advance function\"\"\"",
   "id": "2edccd6de11d6bbb",
   "outputs": [
    {
     "data": {
      "text/plain": [
       "'Section 2 - Advance function'"
      ]
     },
     "execution_count": 7,
     "metadata": {},
     "output_type": "execute_result"
    }
   ],
   "execution_count": 7
  },
  {
   "metadata": {
    "ExecuteTime": {
     "end_time": "2024-09-24T06:54:44.436043Z",
     "start_time": "2024-09-24T06:54:42.363490Z"
    }
   },
   "cell_type": "code",
   "source": [
    "\"\"\"If two continuous items are both odd, add their sum between them.\n",
    "▪ For example, if we have the list [1, 3, 5, 3],\n",
    "▪ the output is: [1, 4, 3, 8, 5, 8, 3]\"\"\"\n",
    "lst = input(\"Enter a list: \").strip().split()\n",
    "for n in range(len(lst)):\n",
    "    lst[n] = int(lst[n])\n",
    "print(lst)  \n",
    "i =0\n",
    "while i < len(lst)-1:\n",
    "    if lst[i] % 2 != 0 and lst[i+1] % 2 != 0:\n",
    "        sum_odd = lst[i] + lst[i+1]\n",
    "        lst.insert(i+1, sum_odd)\n",
    "        i += 1\n",
    "    i+=1\n",
    "print(lst)"
   ],
   "id": "c75e0dcc0d4e19d0",
   "outputs": [
    {
     "name": "stdout",
     "output_type": "stream",
     "text": [
      "[1, 1]\n",
      "[1, 2, 1]\n"
     ]
    }
   ],
   "execution_count": 54
  },
  {
   "metadata": {},
   "cell_type": "markdown",
   "source": "",
   "id": "998594c47b40243b"
  },
  {
   "metadata": {
    "ExecuteTime": {
     "end_time": "2024-09-24T07:05:05.861516Z",
     "start_time": "2024-09-24T07:05:02.068362Z"
    }
   },
   "cell_type": "code",
   "source": [
    "\"\"\"Write a program to return the index of all occurrences of the matching\n",
    "element in list\"\"\"\n",
    "lst = input(\"Enter a list: \").strip().split()\n",
    "for n in range(len(lst)):\n",
    "    lst[n] = int(lst[n])\n",
    "print(lst)  \n",
    "element = int(input(\"Enter a number: \"))\n",
    "lst_index = []\n",
    "for index in range(0,len(lst)):\n",
    "    if lst[index] == element:\n",
    "        lst_index.append(index)\n",
    "print(lst_index)\n"
   ],
   "id": "7a47d756d87d66d0",
   "outputs": [
    {
     "name": "stdout",
     "output_type": "stream",
     "text": [
      "[1, 2, 2, 3, 2, 2]\n",
      "[1, 2, 4, 5]\n"
     ]
    }
   ],
   "execution_count": 60
  },
  {
   "metadata": {
    "ExecuteTime": {
     "end_time": "2024-09-24T07:08:35.011347Z",
     "start_time": "2024-09-24T07:08:31.868987Z"
    }
   },
   "cell_type": "code",
   "source": [
    "\"\"\"Write a program to count all prime numbers in a list of positive integers\"\"\"\n",
    "lst = input(\"Enter a list: \").strip().split()\n",
    "for n in range(len(lst)):\n",
    "    lst[n] = int(lst[n])\n",
    "print(lst)  \n",
    "count = 0\n",
    "def prime_or_not(number_need_to_check:int)->int:\n",
    "    if number_need_to_check <= 1:\n",
    "        return False\n",
    "    if number_need_to_check % 2 == 0:\n",
    "        return False\n",
    "    if number_need_to_check == 2:\n",
    "        return True\n",
    "    for i in range(3, int(number_need_to_check ** 0.5) + 1, 2):\n",
    "        if number_need_to_check % i == 0:\n",
    "            return False\n",
    "    return True\n",
    "for n in range(0,len(lst)):\n",
    "    if prime_or_not(lst[n]): count += 1\n",
    "print(count)"
   ],
   "id": "ae2ebe0196ebba86",
   "outputs": [
    {
     "name": "stdout",
     "output_type": "stream",
     "text": [
      "[1, 2, 3, 4, 5, 6, 7, 8]\n",
      "3\n"
     ]
    }
   ],
   "execution_count": 64
  },
  {
   "metadata": {
    "ExecuteTime": {
     "end_time": "2024-09-24T07:41:08.024901Z",
     "start_time": "2024-09-24T07:41:05.008036Z"
    }
   },
   "cell_type": "code",
   "source": [
    "\"\"\"tìm bcnn\"\"\"\n",
    "\n",
    "def find_lcm(number1:int,number2:int)->int:\n",
    "    if number1 % number2 == 0: return number1\n",
    "    if number2 % number1 == 0: return number2\n",
    "    a = max(number1, number2)\n",
    "    while True:\n",
    "        a += 1\n",
    "        if a % number1 == 0 and a % number2 == 0:\n",
    "            return a\n",
    "a = int(input(\"Enter a number: \"))\n",
    "b = int(input(\"Enter another number: \"))\n",
    "print(find_lcm(a,b))"
   ],
   "id": "82a34dedfd015e42",
   "outputs": [
    {
     "name": "stdout",
     "output_type": "stream",
     "text": [
      "60\n"
     ]
    }
   ],
   "execution_count": 8
  },
  {
   "metadata": {
    "ExecuteTime": {
     "end_time": "2024-10-10T02:08:07.878748Z",
     "start_time": "2024-10-10T02:08:05.464699Z"
    }
   },
   "cell_type": "code",
   "source": [
    "def isPalindrome( x: int) -> bool:\n",
    "    def count_digit(n):\n",
    "        count = 0\n",
    "        while n > 0:\n",
    "            count += 1\n",
    "            n //= 10\n",
    "        return count\n",
    "    def reverse_num(n:int):\n",
    "        digits = count_digit(n)\n",
    "        new = 0\n",
    "        while n > 0:\n",
    "            remain = n % 10\n",
    "            new += remain * (10**(digits-1))\n",
    "            digits -= 1\n",
    "            n //= 10\n",
    "        return new\n",
    "    if x == 0: return True\n",
    "    if x < 0:\n",
    "        x = -x\n",
    "        return x == reverse_num(x)\n",
    "    else:\n",
    "        return x == reverse_num(x)\n",
    "\n",
    "x = int(input(\"Enter a number: \"))\n",
    "print(isPalindrome(x))"
   ],
   "id": "b293b1819b400800",
   "outputs": [
    {
     "name": "stdout",
     "output_type": "stream",
     "text": [
      "True\n"
     ]
    }
   ],
   "execution_count": 6
  },
  {
   "metadata": {
    "ExecuteTime": {
     "end_time": "2024-10-15T06:16:35.443929Z",
     "start_time": "2024-10-15T06:16:27.056765Z"
    }
   },
   "cell_type": "code",
   "source": [
    "s1 = input(\"Input s1: \")\n",
    "s2 = input(\"Input s2: \")\n",
    "s = s1[:(len(s1)+1)//2] + s2 + s1[(len(s1)+1)//2:]\n",
    "print(s)"
   ],
   "id": "877ca8f474f9b0c6",
   "outputs": [
    {
     "name": "stdout",
     "output_type": "stream",
     "text": [
      "thaitsfthasfhanh\n"
     ]
    }
   ],
   "execution_count": 4
  },
  {
   "metadata": {
    "ExecuteTime": {
     "end_time": "2024-10-15T06:35:59.583183Z",
     "start_time": "2024-10-15T06:35:52.652594Z"
    }
   },
   "cell_type": "code",
   "source": [
    "s1 = input(\"Input s1: \")\n",
    "s2 = input(\"Input s2: \")\n",
    "s = s1[:(len(s1)+1)//4] + s2[:(len(s1)+1)//4] + s2[(len(s2)+1)//4:(len(s2)+1)//2] + s1[(len(s1)+1)//4:(len(s1)+1)//2] + s1[(len(s1)+1)//2:(len(s1)+1)*3//4] + s2[(len(s2)+1)//2:] + s1[(len(s1)+1)//4*3]\n",
    "print(s)"
   ],
   "id": "950e8811f9e3e2f0",
   "outputs": [
    {
     "name": "stdout",
     "output_type": "stream",
     "text": [
      "a1b2c3d4\n"
     ]
    }
   ],
   "execution_count": 5
  },
  {
   "metadata": {},
   "cell_type": "code",
   "outputs": [],
   "execution_count": null,
   "source": [
    "s1 = input(\"Input s1: \")\n",
    "s2 = input(\"Input s2: \")\n",
    "n = int(input(\"Enter the number of parts (n): \"))\n",
    "\n",
    "s = \"\"\n",
    "for i in range(n):\n",
    "    # Calculate the start and end indices for s1 and s2 parts\n",
    "    start1 = (len(s1) * i) // n\n",
    "    end1 = (len(s1) * (i + 1)) // n\n",
    "    start2 = (len(s2) * i) // n\n",
    "    end2 = (len(s2) * (i + 1)) // n\n",
    "\n",
    "    # Add segments from s1 and s2 to the result\n",
    "    s += s1[start1:end1] + s2[start2:end2]\n",
    "\n",
    "print(s)\n"
   ],
   "id": "e32513e9371cd23d"
  }
 ],
 "metadata": {
  "kernelspec": {
   "display_name": "Python 3",
   "language": "python",
   "name": "python3"
  },
  "language_info": {
   "codemirror_mode": {
    "name": "ipython",
    "version": 2
   },
   "file_extension": ".py",
   "mimetype": "text/x-python",
   "name": "python",
   "nbconvert_exporter": "python",
   "pygments_lexer": "ipython2",
   "version": "2.7.6"
  }
 },
 "nbformat": 4,
 "nbformat_minor": 5
}
