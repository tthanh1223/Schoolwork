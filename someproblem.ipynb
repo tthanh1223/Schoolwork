{
 "cells": [
  {
   "cell_type": "code",
   "id": "initial_id",
   "metadata": {
    "collapsed": true,
    "ExecuteTime": {
     "end_time": "2024-09-24T12:34:31.193319600Z",
     "start_time": "2024-09-24T12:30:02.175057Z"
    }
   },
   "source": [
    "from inspect import stack\n",
    "\n",
    "\n",
    "def diagonalDifference(arr):\n",
    "    # Write your code here\n",
    "    s_l , s_r = 0,0\n",
    "    for i in range(0,len(arr),1):\n",
    "        s_l += arr[i][i]\n",
    "        print(arr[i][i])\n",
    "        s_r += arr[len(arr)-1-i][i]\n",
    "        print(arr[len(arr)-1-i][i])\n",
    "    return abs(s_l-s_r)\n",
    "n = int(input().strip())\n",
    "arr = []\n",
    "for _ in range(n):\n",
    "    arr.append(list(map(int, input().rstrip().split())))\n",
    "    print(arr) \n",
    "print(diagonalDifference(arr))"
   ],
   "outputs": [
    {
     "name": "stdout",
     "output_type": "stream",
     "text": [
      "[[1, 2, 3]]\n",
      "[[1, 2, 3], [4, 5, 6]]\n",
      "[[1, 2, 3], [4, 5, 6], [7, 8, 9]]\n",
      "1\n",
      "7\n",
      "5\n",
      "5\n",
      "9\n",
      "3\n",
      "0\n"
     ]
    },
    {
     "ename": "KeyboardInterrupt",
     "evalue": "",
     "output_type": "error",
     "traceback": [
      "\u001B[1;31m---------------------------------------------------------------------------\u001B[0m",
      "\u001B[1;31mKeyboardInterrupt\u001B[0m                         Traceback (most recent call last)",
      "Cell \u001B[1;32mIn[18], line 15\u001B[0m\n\u001B[0;32m     13\u001B[0m     arr\u001B[38;5;241m.\u001B[39mappend(\u001B[38;5;28mlist\u001B[39m(\u001B[38;5;28mmap\u001B[39m(\u001B[38;5;28mint\u001B[39m, \u001B[38;5;28minput\u001B[39m()\u001B[38;5;241m.\u001B[39mrstrip()\u001B[38;5;241m.\u001B[39msplit())))\n\u001B[0;32m     14\u001B[0m     \u001B[38;5;28mprint\u001B[39m(arr) \n\u001B[1;32m---> 15\u001B[0m \u001B[38;5;28mprint\u001B[39m(diagonalDifference(arr))\n",
      "File \u001B[1;32m~\\PycharmProjects\\Schoolwork\\venv\\Lib\\site-packages\\IPython\\core\\displayhook.py:264\u001B[0m, in \u001B[0;36mDisplayHook.__call__\u001B[1;34m(self, result)\u001B[0m\n\u001B[0;32m    258\u001B[0m \u001B[38;5;28;01mdef\u001B[39;00m \u001B[38;5;21m__call__\u001B[39m(\u001B[38;5;28mself\u001B[39m, result\u001B[38;5;241m=\u001B[39m\u001B[38;5;28;01mNone\u001B[39;00m):\n\u001B[0;32m    259\u001B[0m \u001B[38;5;250m    \u001B[39m\u001B[38;5;124;03m\"\"\"Printing with history cache management.\u001B[39;00m\n\u001B[0;32m    260\u001B[0m \n\u001B[0;32m    261\u001B[0m \u001B[38;5;124;03m    This is invoked every time the interpreter needs to print, and is\u001B[39;00m\n\u001B[0;32m    262\u001B[0m \u001B[38;5;124;03m    activated by setting the variable sys.displayhook to it.\u001B[39;00m\n\u001B[0;32m    263\u001B[0m \u001B[38;5;124;03m    \"\"\"\u001B[39;00m\n\u001B[1;32m--> 264\u001B[0m     \u001B[38;5;28;43mself\u001B[39;49m\u001B[38;5;241m.\u001B[39mcheck_for_underscore()\n\u001B[0;32m    265\u001B[0m     \u001B[38;5;28;01mif\u001B[39;00m result \u001B[38;5;129;01mis\u001B[39;00m \u001B[38;5;129;01mnot\u001B[39;00m \u001B[38;5;28;01mNone\u001B[39;00m \u001B[38;5;129;01mand\u001B[39;00m \u001B[38;5;129;01mnot\u001B[39;00m \u001B[38;5;28mself\u001B[39m\u001B[38;5;241m.\u001B[39mquiet():\n\u001B[0;32m    266\u001B[0m         \u001B[38;5;28mself\u001B[39m\u001B[38;5;241m.\u001B[39mstart_displayhook()\n",
      "File \u001B[1;32m_pydevd_bundle\\\\pydevd_cython_win32_312_64.pyx:1187\u001B[0m, in \u001B[0;36m_pydevd_bundle.pydevd_cython_win32_312_64.SafeCallWrapper.__call__\u001B[1;34m()\u001B[0m\n",
      "File \u001B[1;32m_pydevd_bundle\\\\pydevd_cython_win32_312_64.pyx:627\u001B[0m, in \u001B[0;36m_pydevd_bundle.pydevd_cython_win32_312_64.PyDBFrame.trace_dispatch\u001B[1;34m()\u001B[0m\n",
      "File \u001B[1;32m_pydevd_bundle\\\\pydevd_cython_win32_312_64.pyx:1103\u001B[0m, in \u001B[0;36m_pydevd_bundle.pydevd_cython_win32_312_64.PyDBFrame.trace_dispatch\u001B[1;34m()\u001B[0m\n",
      "File \u001B[1;32m_pydevd_bundle\\\\pydevd_cython_win32_312_64.pyx:1061\u001B[0m, in \u001B[0;36m_pydevd_bundle.pydevd_cython_win32_312_64.PyDBFrame.trace_dispatch\u001B[1;34m()\u001B[0m\n",
      "File \u001B[1;32mC:\\Program Files\\JetBrains\\PyCharm 2024.2.1\\plugins\\python\\helpers-pro\\jupyter_debug\\pydev_jupyter_plugin.py:169\u001B[0m, in \u001B[0;36mstop\u001B[1;34m(plugin, pydb, frame, event, args, stop_info, arg, step_cmd)\u001B[0m\n\u001B[0;32m    167\u001B[0m     frame \u001B[38;5;241m=\u001B[39m suspend_jupyter(main_debugger, thread, frame, step_cmd)\n\u001B[0;32m    168\u001B[0m     \u001B[38;5;28;01mif\u001B[39;00m frame:\n\u001B[1;32m--> 169\u001B[0m         \u001B[43mmain_debugger\u001B[49m\u001B[38;5;241;43m.\u001B[39;49m\u001B[43mdo_wait_suspend\u001B[49m\u001B[43m(\u001B[49m\u001B[43mthread\u001B[49m\u001B[43m,\u001B[49m\u001B[43m \u001B[49m\u001B[43mframe\u001B[49m\u001B[43m,\u001B[49m\u001B[43m \u001B[49m\u001B[43mevent\u001B[49m\u001B[43m,\u001B[49m\u001B[43m \u001B[49m\u001B[43marg\u001B[49m\u001B[43m)\u001B[49m\n\u001B[0;32m    170\u001B[0m         \u001B[38;5;28;01mreturn\u001B[39;00m \u001B[38;5;28;01mTrue\u001B[39;00m\n\u001B[0;32m    171\u001B[0m \u001B[38;5;28;01mreturn\u001B[39;00m \u001B[38;5;28;01mFalse\u001B[39;00m\n",
      "File \u001B[1;32mC:\\Program Files\\JetBrains\\PyCharm 2024.2.1\\plugins\\python-ce\\helpers\\pydev\\pydevd.py:1207\u001B[0m, in \u001B[0;36mPyDB.do_wait_suspend\u001B[1;34m(self, thread, frame, event, arg, send_suspend_message, is_unhandled_exception)\u001B[0m\n\u001B[0;32m   1204\u001B[0m         from_this_thread\u001B[38;5;241m.\u001B[39mappend(frame_id)\n\u001B[0;32m   1206\u001B[0m \u001B[38;5;28;01mwith\u001B[39;00m \u001B[38;5;28mself\u001B[39m\u001B[38;5;241m.\u001B[39m_threads_suspended_single_notification\u001B[38;5;241m.\u001B[39mnotify_thread_suspended(thread_id, stop_reason):\n\u001B[1;32m-> 1207\u001B[0m     \u001B[38;5;28;43mself\u001B[39;49m\u001B[38;5;241;43m.\u001B[39;49m\u001B[43m_do_wait_suspend\u001B[49m\u001B[43m(\u001B[49m\u001B[43mthread\u001B[49m\u001B[43m,\u001B[49m\u001B[43m \u001B[49m\u001B[43mframe\u001B[49m\u001B[43m,\u001B[49m\u001B[43m \u001B[49m\u001B[43mevent\u001B[49m\u001B[43m,\u001B[49m\u001B[43m \u001B[49m\u001B[43marg\u001B[49m\u001B[43m,\u001B[49m\u001B[43m \u001B[49m\u001B[43msuspend_type\u001B[49m\u001B[43m,\u001B[49m\u001B[43m \u001B[49m\u001B[43mfrom_this_thread\u001B[49m\u001B[43m)\u001B[49m\n",
      "File \u001B[1;32mC:\\Program Files\\JetBrains\\PyCharm 2024.2.1\\plugins\\python-ce\\helpers\\pydev\\pydevd.py:1222\u001B[0m, in \u001B[0;36mPyDB._do_wait_suspend\u001B[1;34m(self, thread, frame, event, arg, suspend_type, from_this_thread)\u001B[0m\n\u001B[0;32m   1219\u001B[0m             \u001B[38;5;28mself\u001B[39m\u001B[38;5;241m.\u001B[39m_call_mpl_hook()\n\u001B[0;32m   1221\u001B[0m         \u001B[38;5;28mself\u001B[39m\u001B[38;5;241m.\u001B[39mprocess_internal_commands()\n\u001B[1;32m-> 1222\u001B[0m         \u001B[43mtime\u001B[49m\u001B[38;5;241;43m.\u001B[39;49m\u001B[43msleep\u001B[49m\u001B[43m(\u001B[49m\u001B[38;5;241;43m0.01\u001B[39;49m\u001B[43m)\u001B[49m\n\u001B[0;32m   1224\u001B[0m \u001B[38;5;28mself\u001B[39m\u001B[38;5;241m.\u001B[39mcancel_async_evaluation(get_current_thread_id(thread), \u001B[38;5;28mstr\u001B[39m(\u001B[38;5;28mid\u001B[39m(frame)))\n\u001B[0;32m   1226\u001B[0m \u001B[38;5;66;03m# process any stepping instructions\u001B[39;00m\n",
      "\u001B[1;31mKeyboardInterrupt\u001B[0m: "
     ]
    }
   ],
   "execution_count": 18
  },
  {
   "metadata": {
    "ExecuteTime": {
     "end_time": "2024-09-24T12:58:15.897014Z",
     "start_time": "2024-09-24T12:58:10.292811Z"
    }
   },
   "cell_type": "code",
   "source": [
    "import re\n",
    "def timeConversion(s) -> str:\n",
    "    # Write your code here\n",
    "    #12:01:00PM return 12:01:00\n",
    "    #12:01:00AM return 00:01:00\n",
    "    time_data = s.split(':')\n",
    "    hour = (time_data[0])\n",
    "    minute = (time_data[1])\n",
    "    second = (time_data[2][:1])\n",
    "    pm_am = time_data[2][2:]\n",
    "    if pm_am == 'AM':\n",
    "        if hour == '12': hour = '00'\n",
    "        return hour+ ':'+ minute+ ':'+ second\n",
    "    elif pm_am == 'PM':\n",
    "        if hour == '12': pass\n",
    "        else:\n",
    "            hour = str(int(hour) + 12)\n",
    "        return hour+ ':'+ minute+ ':'+ second\n",
    "s = input()\n",
    "result = str(timeConversion(s))\n",
    "print(result)\n"
   ],
   "id": "2e48acf85ea3cc1",
   "outputs": [
    {
     "name": "stdout",
     "output_type": "stream",
     "text": [
      "24:00:1\n"
     ]
    }
   ],
   "execution_count": 41
  },
  {
   "metadata": {
    "ExecuteTime": {
     "end_time": "2024-09-29T12:39:45.191166Z",
     "start_time": "2024-09-29T12:39:45.137069Z"
    }
   },
   "cell_type": "code",
   "source": [
    "#Devise an experiment to verify that the list index operator is 𝑂(1).\n",
    "from timeit import Timer\n",
    "\n",
    "# Different list sizes to experiment with\n",
    "list1 = list(range(10))\n",
    "list2 = list(range(10**2))\n",
    "list3 = list(range(10**3))\n",
    "list4 = list(range(10**4))\n",
    "list5 = list(range(10**5))\n",
    "list6 = list(range(10**6))\n",
    "\n",
    "# Define a function that indexes the last element\n",
    "# We use a function so that the timeit Timer can properly reference it\n",
    "def index_last(lst):\n",
    "    return lst[-1]\n",
    "\n",
    "# Set up Timer objects for different list sizes\n",
    "timer1 = Timer(\"index_last(list1)\", \"from __main__ import index_last, list1\")\n",
    "timer2 = Timer(\"index_last(list2)\", \"from __main__ import index_last, list2\")\n",
    "timer3 = Timer(\"index_last(list3)\", \"from __main__ import index_last, list3\")\n",
    "timer4 = Timer(\"index_last(list4)\", \"from __main__ import index_last, list4\")\n",
    "timer5 = Timer(\"index_last(list5)\", \"from __main__ import index_last, list5\")\n",
    "timer6 = Timer(\"index_last(list6)\", \"from __main__ import index_last, list6\")\n",
    "\n",
    "# Print timing results\n",
    "print(timer1.timeit(number=1000))\n",
    "print(timer2.timeit(number=1000))\n",
    "print(timer3.timeit(number=1000))\n",
    "print(timer4.timeit(number=1000))\n",
    "print(timer5.timeit(number=1000))\n",
    "print(timer6.timeit(number=1000))\n",
    "\n"
   ],
   "id": "a547e0dc428f766f",
   "outputs": [
    {
     "name": "stdout",
     "output_type": "stream",
     "text": [
      "8.819997310638428e-05\n",
      "8.880003588274121e-05\n",
      "6.970000686123967e-05\n",
      "0.00010910001583397388\n",
      "6.920000305399299e-05\n",
      "5.329999839887023e-05\n"
     ]
    }
   ],
   "execution_count": 10
  },
  {
   "metadata": {
    "ExecuteTime": {
     "end_time": "2024-09-29T12:40:49.808405Z",
     "start_time": "2024-09-29T12:40:49.785298Z"
    }
   },
   "cell_type": "code",
   "source": [
    "#Verify get item and set item Are 𝑂(1) for Dictionaries\n",
    "from timeit import Timer\n",
    "\n",
    "# Create a dictionary of different sizes\n",
    "dict1 = {i: i for i in range(10)}\n",
    "dict2 = {i: i for i in range(10**2)}\n",
    "dict3 = {i: i for i in range(10**3)}\n",
    "dict4 = {i: i for i in range(10**4)}\n",
    "dict5 = {i: i for i in range(10**5)}\n",
    "\n",
    "# Define functions to get and set items in a dictionary\n",
    "def get_item(d):\n",
    "    return d[0]\n",
    "\n",
    "def set_item(d):\n",
    "    d[0] = 0\n",
    "\n",
    "# Set up Timer objects for the get and set operations\n",
    "get_timer1 = Timer(\"get_item(dict1)\", \"from __main__ import get_item, dict1\")\n",
    "get_timer2 = Timer(\"get_item(dict2)\", \"from __main__ import get_item, dict2\")\n",
    "set_timer1 = Timer(\"set_item(dict1)\", \"from __main__ import set_item, dict1\")\n",
    "set_timer2 = Timer(\"set_item(dict2)\", \"from __main__ import set_item, dict2\")\n",
    "\n",
    "# Print timing results for get and set operations\n",
    "print(\"Get Item:\")\n",
    "print(get_timer1.timeit(number=1000))\n",
    "print(get_timer2.timeit(number=1000))\n",
    "\n",
    "print(\"Set Item:\")\n",
    "print(set_timer1.timeit(number=1000))\n",
    "print(set_timer2.timeit(number=1000))\n"
   ],
   "id": "6bd0ecf5e0974e4",
   "outputs": [
    {
     "name": "stdout",
     "output_type": "stream",
     "text": [
      "Get Item:\n",
      "5.6100019719451666e-05\n",
      "5.619996227324009e-05\n",
      "Set Item:\n",
      "0.00010300002759322524\n",
      "7.559999357908964e-05\n"
     ]
    }
   ],
   "execution_count": 11
  },
  {
   "metadata": {
    "ExecuteTime": {
     "end_time": "2024-09-29T12:47:27.642864Z",
     "start_time": "2024-09-29T12:47:24.876618Z"
    }
   },
   "cell_type": "code",
   "source": [
    "from timeit import Timer\n",
    "\n",
    "# Create a list and dictionary of the same size\n",
    "list1 = list(range(10**5))\n",
    "dict1 = {i: i for i in range(10**5)}\n",
    "\n",
    "# Define functions to delete an item from a list and a dictionary\n",
    "def del_from_list(lst):\n",
    "    del lst[1000]\n",
    "\n",
    "def del_from_dict(d):\n",
    "    del d[1000]\n",
    "\n",
    "# Set up Timer objects for the del operations\n",
    "del_list_timer = Timer(\"del_from_list(list1.copy())\", \"from __main__ import del_from_list, list1\")\n",
    "del_dict_timer = Timer(\"del_from_dict(dict1.copy())\", \"from __main__ import del_from_dict, dict1\")\n",
    "\n",
    "# Print timing results for del operations\n",
    "print(\"Del from List:\")\n",
    "print(del_list_timer.timeit(number=1000))\n",
    "\n",
    "print(\"Del from Dictionary:\")\n",
    "print(del_dict_timer.timeit(number=1000))\n"
   ],
   "id": "ded7748b726851c7",
   "outputs": [
    {
     "name": "stdout",
     "output_type": "stream",
     "text": [
      "Del from List:\n",
      "0.516083599999547\n",
      "Del from Dictionary:\n",
      "2.219005000020843\n"
     ]
    }
   ],
   "execution_count": 26
  },
  {
   "metadata": {
    "ExecuteTime": {
     "end_time": "2024-09-29T12:48:02.744659Z",
     "start_time": "2024-09-29T12:48:02.714905Z"
    }
   },
   "cell_type": "code",
   "source": [
    "#Linear Time Algorithm to Find the kth Smallest Element\n",
    "import random\n",
    "\n",
    "def quickselect(arr, k):\n",
    "    if len(arr) == 1:\n",
    "        return arr[0]\n",
    "    \n",
    "    pivot = random.choice(arr)\n",
    "    lows = [el for el in arr if el < pivot]\n",
    "    highs = [el for el in arr if el > pivot]\n",
    "    pivots = [el for el in arr if el == pivot]\n",
    "\n",
    "    if k < len(lows):\n",
    "        return quickselect(lows, k)\n",
    "    elif k < len(lows) + len(pivots):\n",
    "        return pivots[0]\n",
    "    else:\n",
    "        return quickselect(highs, k - len(lows) - len(pivots))\n",
    "\n",
    "# Example usage\n",
    "arr = [3, 2, 1, 5, 4]\n",
    "k = 2\n",
    "print(f\"The {k}th smallest element is: {quickselect(arr, k)}\")\n"
   ],
   "id": "7acb954baeacbc6e",
   "outputs": [
    {
     "name": "stdout",
     "output_type": "stream",
     "text": [
      "The 2th smallest element is: 3\n"
     ]
    }
   ],
   "execution_count": 27
  },
  {
   "metadata": {
    "ExecuteTime": {
     "end_time": "2024-09-29T13:06:14.785999Z",
     "start_time": "2024-09-29T13:06:14.040404Z"
    }
   },
   "cell_type": "code",
   "source": [
    "import stack_data\n",
    "a = stack()\n",
    "print(a)"
   ],
   "id": "c448e56f7c47b826",
   "outputs": [
    {
     "ename": "NameError",
     "evalue": "name 'stack' is not defined",
     "output_type": "error",
     "traceback": [
      "\u001B[1;31m---------------------------------------------------------------------------\u001B[0m",
      "\u001B[1;31mNameError\u001B[0m                                 Traceback (most recent call last)",
      "Cell \u001B[1;32mIn[28], line 1\u001B[0m\n\u001B[1;32m----> 1\u001B[0m a \u001B[38;5;241m=\u001B[39m \u001B[43mstack\u001B[49m()\n\u001B[0;32m      2\u001B[0m \u001B[38;5;28mprint\u001B[39m(a)\n",
      "\u001B[1;31mNameError\u001B[0m: name 'stack' is not defined"
     ]
    }
   ],
   "execution_count": 28
  },
  {
   "metadata": {},
   "cell_type": "code",
   "outputs": [],
   "execution_count": null,
   "source": "",
   "id": "6407cd0a0ae89f35"
  },
  {
   "metadata": {},
   "cell_type": "code",
   "outputs": [],
   "execution_count": null,
   "source": "",
   "id": "4374365845846e9"
  }
 ],
 "metadata": {
  "kernelspec": {
   "display_name": "Python 3",
   "language": "python",
   "name": "python3"
  },
  "language_info": {
   "codemirror_mode": {
    "name": "ipython",
    "version": 2
   },
   "file_extension": ".py",
   "mimetype": "text/x-python",
   "name": "python",
   "nbconvert_exporter": "python",
   "pygments_lexer": "ipython2",
   "version": "2.7.6"
  }
 },
 "nbformat": 4,
 "nbformat_minor": 5
}
