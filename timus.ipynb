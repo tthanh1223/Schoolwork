{
 "cells": [
  {
   "cell_type": "code",
   "id": "initial_id",
   "metadata": {
    "collapsed": true,
    "ExecuteTime": {
     "end_time": "2024-10-09T05:55:48.300684Z",
     "start_time": "2024-10-09T05:55:41.824418Z"
    }
   },
   "source": [
    "#id 1902 - Neo-Venice\n",
    "\"\"\"\n",
    "Input\n",
    "The first line of the input contains integers n, t and s. n is the number of undines who will go through the St. Peter’s canal in the opposite direction . t is the time needed for the gondola to sail through the entire length of the canal . s is the moment of time at which the Anna's gondola will enter the canal (360 ≤ s ≤ 1200). The second line contains integers s1, …, sn that define the moments of time at which the gondolas of Anna’s colleagues will appear on the opposite side of the canal. s − t < s1 < … < sn < s + t.\n",
    "Output\n",
    "Output n numbers that are the points of time when Anna will meet her colleagues, with absolute or relative error no more than 10−6. Numbers should be separated with spaces or line feeds.\n",
    "\"\"\"\n",
    "#First line:\n",
    "    # n is the number of undines in the opposite direction. (1 <= n <= 100)\n",
    "    # t is the time needed for the gondola to sail through the entire length of the canal. (1 <= t <= 100) \n",
    "    # s is the moment of time at which the Anna's gondola will enter the canal. (360 <= s <= 1200 )\n",
    "#Second line:\n",
    "    # s_1,s_2,...,s_n define the moments of time at which the gondolas of Anna's colleagues will appear on the opposite side of the canal.\n",
    "    # s - t < s_1 < ... < s_n < s + t\n",
    "n,t,s = map(int,input().split())\n",
    "lst = input().split()\n",
    "if len(lst) != n:\n",
    "    print(\"Invalid input\")\n",
    "else:\n",
    "    meeting_time = []\n",
    "    for i in range(len(lst)):\n",
    "        time_to_meet = s + (int(lst[i]) - s) / 2 + t/2\n",
    "        meeting_time.append(time_to_meet)\n",
    "    for i in meeting_time:\n",
    "        print(i, end=\" \")\n",
    "\n",
    "\n"
   ],
   "outputs": [
    {
     "name": "stdout",
     "output_type": "stream",
     "text": [
      "630.0 645.0 "
     ]
    }
   ],
   "execution_count": 14
  },
  {
   "metadata": {
    "ExecuteTime": {
     "end_time": "2024-10-14T02:57:56.769056Z",
     "start_time": "2024-10-14T02:57:52.076128Z"
    }
   },
   "cell_type": "code",
   "source": [
    "# id 1086 - Cryptography\n",
    "# However, we'll reveal you one secret: the new algorithm is based on the work with prime numbers. In particular, in uses a calculation of n-th by order prime number.\n",
    "# Several members of the program committee independently have worked up programs that make such calculations, but these programs produce different answers. Each one of the programmers is sure that his program works correctly. That's why the jury has reached the deadlock and can't continue working. The contest is about not to take place.\n",
    "# You are to help the jury and to save the contest. We want you to write a program that calculates the n-th by order prime number. The main thing is that your program should work correctly.\n",
    "# Input\n",
    "#   First line contains a positive integer k. Then k positive integers follow (one in each line). The numbers don't exceed 15,000.\n",
    "# Output\n",
    "#   For each number n you should output the n-th by order prime number. Each number should be in its line.\n",
    "k = int(input())\n",
    "orders = []\n",
    "for i in range(k):\n",
    "    orders.append(int(input()))\n",
    "\n",
    "def prime_or_not(number:int)->int:\n",
    "    if number <= 1:\n",
    "        return False\n",
    "    if number == 2 or number == 3:\n",
    "        return True\n",
    "    elif:\n",
    "        for i in range(2, int(number**0.5)+1):\n",
    "            if number % i == 0:\n",
    "                return False\n",
    "    return True\n",
    "# find the max order - return the list - then just output the number at that index\n",
    "max_th = max(orders)\n",
    "def list_kth_prime(index):\n",
    "    i = 0\n",
    "    start = 2\n",
    "    primes = []\n",
    "    \n",
    "    while i < index:\n",
    "        if prime_or_not(start):\n",
    "            i += 1\n",
    "            primes.append(start)\n",
    "        start += 1\n",
    "    return primes\n",
    "lst = list_kth_prime(max_th)\n",
    "for i in orders:\n",
    "    print(lst[i-1])"
   ],
   "id": "3874d2b0e68ee985",
   "outputs": [
    {
     "name": "stdout",
     "output_type": "stream",
     "text": [
      "5\n",
      "3\n",
      "11\n",
      "17\n"
     ]
    }
   ],
   "execution_count": 13
  },
  {
   "metadata": {
    "ExecuteTime": {
     "end_time": "2024-10-14T03:12:27.661061Z",
     "start_time": "2024-10-14T03:12:20.281351Z"
    }
   },
   "cell_type": "code",
   "source": [
    "# id 1079 - Maximum\n",
    "# Consider the sequence of numbers a_i, i = 0, 1, 2, …, which satisfies the following requirements:\n",
    "# a_0 = 0\n",
    "# a_1 = 1\n",
    "# a_2i = a_i\n",
    "# a_2i+1 = a_i + a_i+1\n",
    "# for every i = 1, 2, 3, …\n",
    "# Write a program which for a given value of n finds the largest number among the numbers a_0, a_1, …, a_n.\n",
    "# Input\n",
    "#   You are given several test cases (not more than 10). Each test case is a line containing an integer n (1 ≤ n ≤ 99 999). The last line of input contains 0.\n",
    "# Output\n",
    "#   For every n in the input write the corresponding maximum value found.\n",
    "def make_sequence(n):\n",
    "    memo = list(k for k in range(n+1))\n",
    "    memo[0] = 0\n",
    "    memo[1] = 1\n",
    "    for i in range(2, n+1,1):\n",
    "        if i % 2 == 0:\n",
    "            memo[i] = memo[i//2]\n",
    "        else:\n",
    "            memo[i] = memo[i//2] + memo[(i+1)//2]\n",
    "    return memo\n",
    "n = int(input())\n",
    "while n != 0:\n",
    "    print(max(make_sequence(n)))\n",
    "    n = int(input())"
   ],
   "id": "4f04424a16078f51",
   "outputs": [
    {
     "name": "stdout",
     "output_type": "stream",
     "text": [
      "3\n",
      "4\n"
     ]
    }
   ],
   "execution_count": 21
  },
  {
   "metadata": {
    "ExecuteTime": {
     "end_time": "2024-10-14T03:35:18.778667Z",
     "start_time": "2024-10-14T03:35:17.354238Z"
    }
   },
   "cell_type": "code",
   "source": [
    "# 1044 - Lucky Ticket! Easy!\n",
    "# (A ticket is lucky if the sum of its first half of digits is equal to the sum of the second half of digits.) So, the way out is found — of course, tickets must be numbered in sequence, but the number of digits on a ticket may be changed. \n",
    "# Say, if there were only two digits, there would have been ten lucky tickets (with numbers 00, 11, 22, 33, 44, 55, 66, 77, 88, 99). Maybe under the circumstances the ratio of the lucky tickets to the common ones is greater? And what if we take four digits? A huge work has brought the long-awaited result: in this case there will be 670 lucky tickets. But what to do if there are six or more digits?\n",
    "# So you are to save public transport of our city. Write a program that determines a number of lucky tickets for the given number of digits N.\n",
    "# Input\n",
    "#   The only line contains an even integer N that is a number of digits in a ticket (2 ≤ N ≤ 8).\n",
    "# Output\n",
    "#    a number of tickets such that the sum of the first half of digits is equal to the sum of the second half of digits.\n",
    "\n",
    "n = int(input())\n",
    "def lucky_or_not(ticket_number):\n",
    "    if ticket_number == 0: return True\n",
    "    # use zfill for check if it not even\n",
    "    ticket_str = str(ticket_number).zfill(n)\n",
    "    half_len = n // 2\n",
    "    first_half = ticket_str[:half_len]\n",
    "    second_half = ticket_str[half_len:]\n",
    "    # Calculate the sum of digits for both halves\n",
    "    sum_first_half = sum(int(digit) for digit in first_half)\n",
    "    sum_second_half = sum(int(digit) for digit in second_half)\n",
    "    return sum_first_half == sum_second_half\n",
    "count = 0\n",
    "for i in range(10**n):\n",
    "    if lucky_or_not(i):\n",
    "        count += 1\n",
    "print(count)"
   ],
   "id": "e9b2ced196c36438",
   "outputs": [
    {
     "name": "stdout",
     "output_type": "stream",
     "text": [
      "670\n"
     ]
    }
   ],
   "execution_count": 52
  },
  {
   "metadata": {
    "ExecuteTime": {
     "end_time": "2024-10-14T03:37:43.424582Z",
     "start_time": "2024-10-14T03:37:42.528320Z"
    }
   },
   "cell_type": "code",
   "source": [
    "# Read the number of digits (must be even)\n",
    "n = int(input())\n",
    "\n",
    "# Number of digits in each half\n",
    "half_n = n // 2\n",
    "\n",
    "# Array to store frequency of sums for the first half\n",
    "sum_count = [0] * (9 * half_n + 1)\n",
    "\n",
    "# Calculate all possible sums for the first half\n",
    "for i in range(10**half_n):\n",
    "    sum_first_half = sum(int(digit) for digit in str(i).zfill(half_n))\n",
    "    sum_count[sum_first_half] += 1\n",
    "\n",
    "# Now calculate matching sums for the second half\n",
    "total_lucky_tickets = 0\n",
    "for i in range(10**half_n):\n",
    "    sum_second_half = sum(int(digit) for digit in str(i).zfill(half_n))\n",
    "    total_lucky_tickets += sum_count[sum_second_half]\n",
    "\n",
    "print(total_lucky_tickets)\n"
   ],
   "id": "eff320f591f58470",
   "outputs": [
    {
     "name": "stdout",
     "output_type": "stream",
     "text": [
      "670\n"
     ]
    }
   ],
   "execution_count": 53
  },
  {
   "metadata": {
    "ExecuteTime": {
     "end_time": "2024-10-14T03:40:31.558957Z",
     "start_time": "2024-10-14T03:40:31.550123Z"
    }
   },
   "cell_type": "code",
   "source": [
    "n = 4513\n",
    "print(str(n).zfill(6))"
   ],
   "id": "b576d7af2a76c938",
   "outputs": [
    {
     "name": "stdout",
     "output_type": "stream",
     "text": [
      "004513\n"
     ]
    }
   ],
   "execution_count": 54
  }
 ],
 "metadata": {
  "kernelspec": {
   "display_name": "Python 3",
   "language": "python",
   "name": "python3"
  },
  "language_info": {
   "codemirror_mode": {
    "name": "ipython",
    "version": 2
   },
   "file_extension": ".py",
   "mimetype": "text/x-python",
   "name": "python",
   "nbconvert_exporter": "python",
   "pygments_lexer": "ipython2",
   "version": "2.7.6"
  }
 },
 "nbformat": 4,
 "nbformat_minor": 5
}
