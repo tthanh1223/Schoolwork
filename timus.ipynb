{
 "cells": [
  {
   "cell_type": "code",
   "id": "initial_id",
   "metadata": {
    "collapsed": true,
    "ExecuteTime": {
     "end_time": "2024-10-15T06:21:42.913691Z",
     "start_time": "2024-10-15T06:21:33.868103Z"
    }
   },
   "source": [
    "#id 1902 - Neo-Venice\n",
    "\"\"\"\n",
    "Input\n",
    "The first line of the input contains integers n, t and s. n is the number of undines who will go through the St. Peter’s canal in the opposite direction . t is the time needed for the gondola to sail through the entire length of the canal . s is the moment of time at which the Anna's gondola will enter the canal (360 ≤ s ≤ 1200). The second line contains integers s1, …, sn that define the moments of time at which the gondolas of Anna’s colleagues will appear on the opposite side of the canal. s − t < s1 < … < sn < s + t.\n",
    "Output\n",
    "Output n numbers that are the points of time when Anna will meet her colleagues, with absolute or relative error no more than 10−6. Numbers should be separated with spaces or line feeds.\n",
    "\"\"\"\n",
    "#First line:\n",
    "    # n is the number of undines in the opposite direction. (1 <= n <= 100)\n",
    "    # t is the time needed for the gondola to sail through the entire length of the canal. (1 <= t <= 100) \n",
    "    # s is the moment of time at which the Anna's gondola will enter the canal. (360 ⇐ s <= 1200)\n",
    "#Second line:\n",
    "    # s_1,s_2,...,s_n define the moments of time at which the gondolas of Anna's colleagues will appear on the opposite side of the canal.\n",
    "    # s - t < s_1 < ... < s_n < s + t\n",
    "n,t,s = map(int,input().split())\n",
    "lst = input().split()\n",
    "if len(lst) != n:\n",
    "    print(\"Invalid input\")\n",
    "else:\n",
    "    meeting_time = []\n",
    "    for i in range(len(lst)):\n",
    "        time_to_meet = s + (int(lst[i]) - s) / 2 + t/2\n",
    "        meeting_time.append(time_to_meet)\n",
    "    for i in meeting_time:\n",
    "        print(i, end=\" \")\n",
    "\n",
    "\n"
   ],
   "outputs": [
    {
     "name": "stdout",
     "output_type": "stream",
     "text": [
      "271.5 "
     ]
    }
   ],
   "execution_count": 1
  },
  {
   "metadata": {
    "ExecuteTime": {
     "end_time": "2024-10-14T02:57:56.769056Z",
     "start_time": "2024-10-14T02:57:52.076128Z"
    }
   },
   "cell_type": "code",
   "source": [
    "# id 1086 - Cryptography\n",
    "# However, we'll reveal you one secret: the new algorithm is based on the work with prime numbers. In particular, in uses a calculation of n-th by order prime number.\n",
    "# Several members of the program committee independently have worked up programs that make such calculations, but these programs produce different answers. Each one of the programmers is sure that his program works correctly. That's why the jury has reached the deadlock and can't continue working. The contest is about not to take place.\n",
    "# You are to help the jury and to save the contest. We want you to write a program that calculates the n-th by order prime number. The main thing is that your program should work correctly.\n",
    "# Input\n",
    "#   First line contains a positive integer k. Then k positive integers follow (one in each line). The numbers don't exceed 15,000.\n",
    "# Output\n",
    "#   For each number n you should output the n-th by order prime number. Each number should be in its line.\n",
    "k = int(input())\n",
    "orders = []\n",
    "for i in range(k):\n",
    "    orders.append(int(input()))\n",
    "\n",
    "def prime_or_not(number:int)->int:\n",
    "    if number <= 1:\n",
    "        return False\n",
    "    if number == 2 or number == 3:\n",
    "        return True\n",
    "    else:\n",
    "        for i in range(2, int(number**0.5)+1):\n",
    "            if number % i == 0:\n",
    "                return False\n",
    "    return True\n",
    "# find the max order - return the list - then output the number at that index\n",
    "max_th = max(orders)\n",
    "def list_kth_prime(index):\n",
    "    i = 0\n",
    "    start = 2\n",
    "    primes = []\n",
    "    \n",
    "    while i < index:\n",
    "        if prime_or_not(start):\n",
    "            i += 1\n",
    "            primes.append(start)\n",
    "        start += 1\n",
    "    return primes\n",
    "lst = list_kth_prime(max_th)\n",
    "for i in orders:\n",
    "    print(lst[i-1])"
   ],
   "id": "3874d2b0e68ee985",
   "outputs": [
    {
     "name": "stdout",
     "output_type": "stream",
     "text": [
      "5\n",
      "3\n",
      "11\n",
      "17\n"
     ]
    }
   ],
   "execution_count": 13
  },
  {
   "metadata": {
    "ExecuteTime": {
     "end_time": "2024-10-14T03:12:27.661061Z",
     "start_time": "2024-10-14T03:12:20.281351Z"
    }
   },
   "cell_type": "code",
   "source": [
    "# id 1079 - Maximum\n",
    "# Consider the sequence of numbers a_i, i = 0, 1, 2, …, which satisfies the following requirements:\n",
    "# a_0 = 0\n",
    "# a_1 = 1\n",
    "# a_2i = a_i\n",
    "# a_2i+1 = a_i + a_i+1\n",
    "# for every i = 1, 2, 3, …\n",
    "# Write a program which for a given value of n finds the largest number among the numbers a_0, a_1, …, a_n.\n",
    "# Input\n",
    "#   You are given several test cases (not more than 10). Each test case is a line containing an integer n (1 ≤ n ≤ 99 999). The last line of input contains 0.\n",
    "# Output\n",
    "#   For every n in the input write the corresponding maximum value found.\n",
    "def make_sequence(n):\n",
    "    memo = list(k for k in range(n+1))\n",
    "    memo[0] = 0\n",
    "    memo[1] = 1\n",
    "    for i in range(2, n+1,1):\n",
    "        if i % 2 == 0:\n",
    "            memo[i] = memo[i//2]\n",
    "        else:\n",
    "            memo[i] = memo[i//2] + memo[(i+1)//2]\n",
    "    return memo\n",
    "n = int(input())\n",
    "while n != 0:\n",
    "    print(max(make_sequence(n)))\n",
    "    n = int(input())"
   ],
   "id": "4f04424a16078f51",
   "outputs": [
    {
     "name": "stdout",
     "output_type": "stream",
     "text": [
      "3\n",
      "4\n"
     ]
    }
   ],
   "execution_count": 21
  },
  {
   "metadata": {
    "ExecuteTime": {
     "end_time": "2024-10-15T08:28:04.668181Z",
     "start_time": "2024-10-15T08:28:03.583649Z"
    }
   },
   "cell_type": "code",
   "source": [
    "# 1044 - Lucky Ticket! Easy!\n",
    "# (A ticket is lucky if the sum of its first half of digits is equal to the sum of the second half of digits.) So, the way out is found — of course, tickets must be numbered in sequence, but the number of digits on a ticket may be changed. \n",
    "# Say, if there were only two digits, there would have been ten lucky tickets (with numbers 00, 11, 22, 33, 44, 55, 66, 77, 88, 99). Maybe under the circumstances the ratio of the lucky tickets to the common ones is greater? And what if we take four digits? A huge work has brought the long-awaited result: in this case, there will be 670 lucky tickets. But what to do if there are six or more digits?\n",
    "# So you are to save public transport of our city. Write a program that determines a number of lucky tickets for the given number of digits N.\n",
    "# Input\n",
    "#   The only line contains an even integer N that is a number of digits in a ticket (2 ≤ N ≤ 8).\n",
    "# Output\n",
    "#    a number of tickets such that the sum of the first half of digits is equal to the sum of the second half of digits.\n",
    "\n",
    "n = int(input())\n",
    "def lucky_or_not(ticket_number):\n",
    "    if ticket_number == 0: return True\n",
    "    # use zfill for check if it not even\n",
    "    ticket_str = str(ticket_number).zfill(n)\n",
    "    half_len = n // 2\n",
    "    first_half = ticket_str[:half_len]\n",
    "    second_half = ticket_str[half_len:]\n",
    "    # Calculate the sum of digits for both halves\n",
    "    sum_first_half = sum(int(digit) for digit in first_half)\n",
    "    sum_second_half = sum(int(digit) for digit in second_half)\n",
    "    return sum_first_half == sum_second_half\n",
    "count = 0\n",
    "for i in range(10**n):\n",
    "    if lucky_or_not(i):\n",
    "        count += 1\n",
    "print(count)"
   ],
   "id": "e9b2ced196c36438",
   "outputs": [
    {
     "name": "stdout",
     "output_type": "stream",
     "text": [
      "670\n"
     ]
    }
   ],
   "execution_count": 2
  },
  {
   "metadata": {
    "ExecuteTime": {
     "end_time": "2024-10-15T08:27:53.817585Z",
     "start_time": "2024-10-15T08:27:50.741578Z"
    }
   },
   "cell_type": "code",
   "source": [
    "# Read the number of digits (must be even)\n",
    "n = int(input())\n",
    "\n",
    "# Number of digits in each half\n",
    "half_n = n // 2\n",
    "\n",
    "# Array to store frequency of sums for the first half\n",
    "sum_count = [0] * (9 * half_n + 1)\n",
    "\n",
    "# Calculate all possible sums for the first half\n",
    "for i in range(10**half_n):\n",
    "    sum_first_half = sum(int(digit) for digit in str(i).zfill(half_n))\n",
    "    sum_count[sum_first_half] += 1\n",
    "\n",
    "# Now calculate matching sums for the second half\n",
    "total_lucky_tickets = 0\n",
    "for i in range(10**half_n):\n",
    "    sum_second_half = sum(int(digit) for digit in str(i).zfill(half_n))\n",
    "    total_lucky_tickets += sum_count[sum_second_half]\n",
    "\n",
    "print(total_lucky_tickets)\n"
   ],
   "id": "eff320f591f58470",
   "outputs": [
    {
     "name": "stdout",
     "output_type": "stream",
     "text": [
      "670\n"
     ]
    }
   ],
   "execution_count": 1
  },
  {
   "metadata": {
    "ExecuteTime": {
     "end_time": "2024-10-15T08:39:41.196006Z",
     "start_time": "2024-10-15T08:39:39.085403Z"
    }
   },
   "cell_type": "code",
   "source": "# 1102\n",
   "id": "b576d7af2a76c938",
   "outputs": [
    {
     "ename": "ValueError",
     "evalue": "invalid literal for int() with base 10: '6\\nputon\\ninonputin\\noneputonininputoutoutput\\noneininputwooutoutput\\noutpu\\nutput'",
     "output_type": "error",
     "traceback": [
      "\u001B[1;31m---------------------------------------------------------------------------\u001B[0m",
      "\u001B[1;31mValueError\u001B[0m                                Traceback (most recent call last)",
      "Cell \u001B[1;32mIn[3], line 2\u001B[0m\n\u001B[0;32m      1\u001B[0m \u001B[38;5;66;03m# 1102\u001B[39;00m\n\u001B[1;32m----> 2\u001B[0m number \u001B[38;5;241m=\u001B[39m \u001B[38;5;28;43mint\u001B[39;49m\u001B[43m(\u001B[49m\u001B[38;5;28;43minput\u001B[39;49m\u001B[43m(\u001B[49m\u001B[43m)\u001B[49m\u001B[43m)\u001B[49m\n\u001B[0;32m      3\u001B[0m strings \u001B[38;5;241m=\u001B[39m []\n\u001B[0;32m      4\u001B[0m \u001B[38;5;28;01mfor\u001B[39;00m i \u001B[38;5;129;01min\u001B[39;00m \u001B[38;5;28mrange\u001B[39m(number):\n",
      "\u001B[1;31mValueError\u001B[0m: invalid literal for int() with base 10: '6\\nputon\\ninonputin\\noneputonininputoutoutput\\noneininputwooutoutput\\noutpu\\nutput'"
     ]
    }
   ],
   "execution_count": 3
  }
 ],
 "metadata": {
  "kernelspec": {
   "display_name": "Python 3",
   "language": "python",
   "name": "python3"
  },
  "language_info": {
   "codemirror_mode": {
    "name": "ipython",
    "version": 2
   },
   "file_extension": ".py",
   "mimetype": "text/x-python",
   "name": "python",
   "nbconvert_exporter": "python",
   "pygments_lexer": "ipython2",
   "version": "2.7.6"
  }
 },
 "nbformat": 4,
 "nbformat_minor": 5
}
